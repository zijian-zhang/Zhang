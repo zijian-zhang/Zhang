{
 "cells": [
  {
   "cell_type": "code",
   "execution_count": 1,
   "metadata": {},
   "outputs": [],
   "source": [
    "import pandas as pd\n",
    "import matplotlib.pyplot as plt\n",
    "import numpy as np\n",
    "import datetime\n",
    "from matplotlib.font_manager import FontProperties\n",
    "import os"
   ]
  },
  {
   "cell_type": "code",
   "execution_count": 2,
   "metadata": {},
   "outputs": [],
   "source": [
    "#os.chdir(\"C:\\\\Users\\\\zhang\\\\Dropbox\\\\Researches\\\\180410BT\")#windows\n",
    "os.chdir(\"/home/zijian/Dropbox/Researches/180410BT\")#Linux"
   ]
  },
  {
   "cell_type": "code",
   "execution_count": 3,
   "metadata": {},
   "outputs": [],
   "source": [
    "At=\"113\""
   ]
  },
  {
   "cell_type": "code",
   "execution_count": 4,
   "metadata": {},
   "outputs": [],
   "source": [
    "DrySepIndex=pd.read_csv(\"SepTime.csv\")"
   ]
  },
  {
   "cell_type": "code",
   "execution_count": 5,
   "metadata": {},
   "outputs": [],
   "source": [
    "#os.chdir(\"C:\\\\Users\\\\zhang\\\\Dropbox\\\\Researches\\\\180410BT\\\\cdte\")#windows\n",
    "os.chdir(\"/home/zijian/Dropbox/Researches/180410BT/cdte\")#Linux\n",
    "data = pd.read_csv('target%s.csv'%At,skiprows =5)"
   ]
  },
  {
   "cell_type": "code",
   "execution_count": 6,
   "metadata": {},
   "outputs": [
    {
     "data": {
      "text/html": [
       "<div>\n",
       "<style scoped>\n",
       "    .dataframe tbody tr th:only-of-type {\n",
       "        vertical-align: middle;\n",
       "    }\n",
       "\n",
       "    .dataframe tbody tr th {\n",
       "        vertical-align: top;\n",
       "    }\n",
       "\n",
       "    .dataframe thead th {\n",
       "        text-align: right;\n",
       "    }\n",
       "</style>\n",
       "<table border=\"1\" class=\"dataframe\">\n",
       "  <thead>\n",
       "    <tr style=\"text-align: right;\">\n",
       "      <th>target</th>\n",
       "      <th>164a</th>\n",
       "      <th>153</th>\n",
       "      <th>69</th>\n",
       "      <th>174a</th>\n",
       "      <th>154</th>\n",
       "      <th>146</th>\n",
       "      <th>113</th>\n",
       "    </tr>\n",
       "  </thead>\n",
       "  <tbody>\n",
       "    <tr>\n",
       "      <th>start</th>\n",
       "      <td>2018/4/10 19:56</td>\n",
       "      <td>2018/4/11 10:25</td>\n",
       "      <td>2018/4/11 13:40</td>\n",
       "      <td>2018/4/11 15:03</td>\n",
       "      <td>2018/4/11 17:24</td>\n",
       "      <td>2018/4/12 10:20</td>\n",
       "      <td>2018/4/12 15:41</td>\n",
       "    </tr>\n",
       "    <tr>\n",
       "      <th>max</th>\n",
       "      <td>2018/4/10 20:09</td>\n",
       "      <td>2018/4/11 10:30</td>\n",
       "      <td>2018/4/11 13:55</td>\n",
       "      <td>2018/4/11 15:13</td>\n",
       "      <td>2018/4/11 17:37</td>\n",
       "      <td>2018/4/12 10:34</td>\n",
       "      <td>2018/4/12 15:55</td>\n",
       "    </tr>\n",
       "    <tr>\n",
       "      <th>end</th>\n",
       "      <td>2018/4/10 20:15</td>\n",
       "      <td>2018/4/11 11:00</td>\n",
       "      <td>2018/4/11 14:15</td>\n",
       "      <td>2018/4/11 15:16</td>\n",
       "      <td>2018/4/11 18:10</td>\n",
       "      <td>2018/4/12 11:14</td>\n",
       "      <td>2018/4/12 14:24</td>\n",
       "    </tr>\n",
       "  </tbody>\n",
       "</table>\n",
       "</div>"
      ],
      "text/plain": [
       "target             164a              153               69             174a  \\\n",
       "start   2018/4/10 19:56  2018/4/11 10:25  2018/4/11 13:40  2018/4/11 15:03   \n",
       "max     2018/4/10 20:09  2018/4/11 10:30  2018/4/11 13:55  2018/4/11 15:13   \n",
       "end     2018/4/10 20:15  2018/4/11 11:00  2018/4/11 14:15  2018/4/11 15:16   \n",
       "\n",
       "target              154              146              113  \n",
       "start   2018/4/11 17:24  2018/4/12 10:20  2018/4/12 15:41  \n",
       "max     2018/4/11 17:37  2018/4/12 10:34  2018/4/12 15:55  \n",
       "end     2018/4/11 18:10  2018/4/12 11:14  2018/4/12 14:24  "
      ]
     },
     "execution_count": 6,
     "metadata": {},
     "output_type": "execute_result"
    }
   ],
   "source": [
    "DrySepIndex2=DrySepIndex.set_index(\"target\")\n",
    "DF=DrySepIndex2.T\n",
    "DF"
   ]
  },
  {
   "cell_type": "code",
   "execution_count": 7,
   "metadata": {},
   "outputs": [],
   "source": [
    "timelist=DF[\"%s\"%At]"
   ]
  },
  {
   "cell_type": "code",
   "execution_count": 8,
   "metadata": {},
   "outputs": [],
   "source": [
    "timelist=pd.to_datetime(timelist)"
   ]
  },
  {
   "cell_type": "code",
   "execution_count": 9,
   "metadata": {},
   "outputs": [],
   "source": [
    "data.columns=[\"TIM\",\"MIN\",\"CPS\"]#列名を簡単なものに変換\n",
    "\n",
    "data[\"TIM\"]=pd.to_datetime(data[\"TIM\"])\n",
    "\n",
    "Time=data[\"TIM\"].values\n",
    "CPS=data[\"CPS\"].values\n",
    "CPS=CPS.astype(float)"
   ]
  },
  {
   "cell_type": "code",
   "execution_count": 10,
   "metadata": {},
   "outputs": [
    {
     "data": {
      "image/png": "[encoded data removed]",
      "text/plain": [
       "<matplotlib.figure.Figure at 0x7f17f8165588>"
      ]
     },
     "metadata": {},
     "output_type": "display_data"
    }
   ],
   "source": [
    "plt.plot(Time,CPS)\n",
    "plt.axvline(x=timelist[0], color='red',linewidth=0.5)\n",
    "plt.axvline(x=timelist[1], color='green',linewidth=0.5)\n",
    "plt.axvline(x=timelist[2], color='b',linewidth=0.5)\n",
    "\n",
    "start=timelist[0]-datetime.timedelta(minutes=5)\n",
    "end=timelist[2]+datetime.timedelta(minutes=5)\n",
    "\n",
    "plt.title(\"target%s\"%At)\n",
    "plt.ylabel(\"CPS\")\n",
    "plt.xlim(start,end)\n",
    "plt.gcf().autofmt_xdate()\n",
    "\n",
    "\n",
    "plt.show()"
   ]
  },
  {
   "cell_type": "code",
   "execution_count": 11,
   "metadata": {},
   "outputs": [],
   "source": [
    "os.chdir(\"/home/zijian/Dropbox/Researches/180410BT/temp\")#Linux\n",
    "data2 = pd.read_csv(\"At%s.csv\"%At,skiprows=29,encoding=\"shift-jis\")"
   ]
  },
  {
   "cell_type": "code",
   "execution_count": 12,
   "metadata": {},
   "outputs": [],
   "source": [
    "Loger_Time=pd.to_datetime(data2[\"Time\"],format=\"%Y-%m-%d %H:%M:%S\")\n",
    "kanjyo=data2[\"ﾟC.1\"]\n",
    "\n",
    "over800=np.nonzero(kanjyo>800)\n",
    "first_index=over800[0][0]\n",
    "\n",
    "over800_time=Loger_Time[first_index]\n",
    "\n",
    "CdTe_time=pd.to_datetime(data[\"TIM\"])\n",
    "\n",
    "start_time=np.nonzero(CdTe_time>over800_time)\n",
    "ST_index=start_time[0][0]\n",
    "\n",
    "\n",
    "ROI_time=CdTe_time[ST_index:]\n",
    "ROI_cps=data[\"CPS\"][ST_index:]"
   ]
  },
  {
   "cell_type": "code",
   "execution_count": 13,
   "metadata": {},
   "outputs": [
    {
     "name": "stdout",
     "output_type": "stream",
     "text": [
      "9\n"
     ]
    }
   ],
   "source": [
    "\n",
    "delta=[]\n",
    "for i in range(len(ROI_cps)-1):\n",
    "    a0=np.array(ROI_cps)[i]\n",
    "    a1=np.array(ROI_cps)[i+1]\n",
    "    #print((a1-a0)/a1)\n",
    "    delta.append((a1-a0)/a1)\n",
    "    \n",
    "TandF=np.array(delta)<0.01\n",
    "\n",
    "pool=0\n",
    "counter=0\n",
    "\n",
    "for i in TandF:\n",
    "    if i==True:\n",
    "        pool+=1\n",
    "        counter+=1\n",
    "    if i==False:\n",
    "        pool=0\n",
    "        counter+=1\n",
    "    if pool==4:\n",
    "        break\n",
    "\n",
    "print(counter)"
   ]
  },
  {
   "cell_type": "code",
   "execution_count": 14,
   "metadata": {},
   "outputs": [
    {
     "data": {
      "image/png": "[encoded data removed]",
      "text/plain": [
       "<matplotlib.figure.Figure at 0x7f17efba49b0>"
      ]
     },
     "metadata": {},
     "output_type": "display_data"
    }
   ],
   "source": [
    "end_time=np.array(ROI_time)[counter]\n",
    "\n",
    "plt.plot(Time,CPS)\n",
    "plt.axvline(x=end_time,color=\"black\",ls=\"dashed\")\n",
    "\n",
    "plt.axvline(x=timelist[0], color='red',linewidth=0.5)\n",
    "plt.axvline(x=timelist[1], color='green',linewidth=0.5)\n",
    "plt.axvline(x=timelist[2], color='b',linewidth=0.5)\n",
    "\n",
    "start=timelist[0]-datetime.timedelta(minutes=5)\n",
    "end=timelist[2]+datetime.timedelta(minutes=5)\n",
    "\n",
    "plt.title(\"target%s\"%At)\n",
    "plt.ylabel(\"CPS\")\n",
    "plt.xlim(start,end)\n",
    "plt.gcf().autofmt_xdate()\n",
    "\n",
    "plt.savefig(\"/home/zijian/Dropbox/Researches/180410BT/images/At%s.png\"%At)"
   ]
  },
  {
   "cell_type": "code",
   "execution_count": null,
   "metadata": {},
   "outputs": [],
   "source": []
  },
  {
   "cell_type": "code",
   "execution_count": null,
   "metadata": {},
   "outputs": [],
   "source": []
  },
  {
   "cell_type": "code",
   "execution_count": null,
   "metadata": {},
   "outputs": [],
   "source": []
  },
  {
   "cell_type": "code",
   "execution_count": null,
   "metadata": {},
   "outputs": [],
   "source": []
  },
  {
   "cell_type": "code",
   "execution_count": null,
   "metadata": {},
   "outputs": [],
   "source": []
  },
  {
   "cell_type": "code",
   "execution_count": null,
   "metadata": {},
   "outputs": [],
   "source": []
  },
  {
   "cell_type": "code",
   "execution_count": null,
   "metadata": {},
   "outputs": [],
   "source": []
  }
 ],
 "metadata": {
  "kernelspec": {
   "display_name": "Python 3",
   "language": "python",
   "name": "python3"
  },
  "language_info": {
   "codemirror_mode": {
    "name": "ipython",
    "version": 3
   },
   "file_extension": ".py",
   "mimetype": "text/x-python",
   "name": "python",
   "nbconvert_exporter": "python",
   "pygments_lexer": "ipython3",
   "version": "3.6.4"
  }
 },
 "nbformat": 4,
 "nbformat_minor": 2
}
